{
  "nbformat": 4,
  "nbformat_minor": 0,
  "metadata": {
    "colab": {
      "name": "super_desafio_pietro",
      "provenance": [],
      "toc_visible": true,
      "include_colab_link": true
    },
    "kernelspec": {
      "display_name": "Python 3",
      "name": "python3"
    }
  },
  "cells": [
    {
      "cell_type": "markdown",
      "metadata": {
        "id": "view-in-github",
        "colab_type": "text"
      },
      "source": [
        "<a href=\"https://colab.research.google.com/github/Hypokeimenon/desafio_bootcamp/blob/main/super_desafio_pietro.ipynb\" target=\"_parent\"><img src=\"https://colab.research.google.com/assets/colab-badge.svg\" alt=\"Open In Colab\"/></a>"
      ]
    },
    {
      "cell_type": "markdown",
      "metadata": {
        "id": "EOAC-Lyi-Uj4"
      },
      "source": [
        "#Análise de correlação entre deficiência de Vitamina D e o agravamento do quadro clínico de COVID19 - por Pietro Sanchini"
      ]
    },
    {
      "cell_type": "markdown",
      "metadata": {
        "id": "Rsk-GOl09O6A"
      },
      "source": [
        "#Objetivo"
      ]
    },
    {
      "cell_type": "markdown",
      "metadata": {
        "id": "XztYXKHfBM3H"
      },
      "source": [
        "O objetivo deste estudo é analisar as possíveis relações de correlação e causalidade existentes entre a ingestão regular de vitamina D através da exposição à luz solar ou através de alimentos, e a evolução da sintomatologia de pessoas que contraíram COVID19"
      ]
    },
    {
      "cell_type": "markdown",
      "metadata": {
        "id": "-CRel2U49R4W"
      },
      "source": [
        "#Metodologia"
      ]
    },
    {
      "cell_type": "markdown",
      "metadata": {
        "id": "4vgRSUHgBNmn"
      },
      "source": [
        "O estudo foi feito cruzando informações de duas bases distintas, sendo uma com as informações sobre alimentação e região (rural ou urbana) de moradores do Brasil e a segunda base, do Brasil.IO, com os dados de mortes e casos confirmados da COVID19. Estes dados foram separados, quando possível, por estados, entendendo que Pernambuco é um estado preponderantemente quente, com maior incidência de luz solar, e Santa Catarina é um estado com maior incidência de períodos frios e possível índice aumentado de confinamento em períodos de baixa temperatura."
      ]
    },
    {
      "cell_type": "markdown",
      "metadata": {
        "id": "qNuYREW1-GTJ"
      },
      "source": [
        "#Iníciando a codificação"
      ]
    },
    {
      "cell_type": "markdown",
      "metadata": {
        "id": "XxoxCHTz81Xb"
      },
      "source": [
        "Importação das bibliotecas"
      ]
    },
    {
      "cell_type": "code",
      "metadata": {
        "id": "wKmrphrKhoxp"
      },
      "source": [
        "import pandas as pd\n",
        "import numpy as np"
      ],
      "execution_count": 202,
      "outputs": []
    },
    {
      "cell_type": "markdown",
      "metadata": {
        "id": "t8EZNqhA86EZ"
      },
      "source": [
        "Acessando o drive do Google"
      ]
    },
    {
      "cell_type": "code",
      "metadata": {
        "colab": {
          "base_uri": "https://localhost:8080/"
        },
        "id": "bgkniziSiMPr",
        "outputId": "5a1cc44c-276c-43a2-bcf5-a5426a0a3e99"
      },
      "source": [
        "from google.colab import drive\n",
        "drive.mount('/content/drive')"
      ],
      "execution_count": 203,
      "outputs": [
        {
          "output_type": "stream",
          "text": [
            "Drive already mounted at /content/drive; to attempt to forcibly remount, call drive.mount(\"/content/drive\", force_remount=True).\n"
          ],
          "name": "stdout"
        }
      ]
    },
    {
      "cell_type": "markdown",
      "metadata": {
        "id": "L-kOozp37Adg"
      },
      "source": [
        "#Tratando e limpando a base a respeito de hábitos alimentares"
      ]
    },
    {
      "cell_type": "markdown",
      "metadata": {
        "id": "Hq6ysYPu6-WX"
      },
      "source": [
        "Abertura da base de hábitos alimentares"
      ]
    },
    {
      "cell_type": "code",
      "metadata": {
        "colab": {
          "base_uri": "https://localhost:8080/",
          "height": 215
        },
        "id": "5NU-Rro1hbeV",
        "outputId": "ece7c1fb-5a52-4a9d-fc8f-29e88a257c8e"
      },
      "source": [
        "alimentacao_simples = pd.read_csv(\"/content/drive/MyDrive/datasets/all_cnty_ac_yr_2015.csv\")\n",
        "alimentacao_simples.head()"
      ],
      "execution_count": 204,
      "outputs": [
        {
          "output_type": "execute_result",
          "data": {
            "text/html": [
              "<div>\n",
              "<style scoped>\n",
              "    .dataframe tbody tr th:only-of-type {\n",
              "        vertical-align: middle;\n",
              "    }\n",
              "\n",
              "    .dataframe tbody tr th {\n",
              "        vertical-align: top;\n",
              "    }\n",
              "\n",
              "    .dataframe thead th {\n",
              "        text-align: right;\n",
              "    }\n",
              "</style>\n",
              "<table border=\"1\" class=\"dataframe\">\n",
              "  <thead>\n",
              "    <tr style=\"text-align: right;\">\n",
              "      <th></th>\n",
              "      <th>superregion2</th>\n",
              "      <th>iso3</th>\n",
              "      <th>countryname</th>\n",
              "      <th>female</th>\n",
              "      <th>adult</th>\n",
              "      <th>urban</th>\n",
              "      <th>edu</th>\n",
              "      <th>v01_wt_median</th>\n",
              "      <th>v02_wt_median</th>\n",
              "      <th>v05_wt_median</th>\n",
              "      <th>v06_wt_median</th>\n",
              "      <th>v10_wt_median</th>\n",
              "      <th>v15_wt_median</th>\n",
              "      <th>v16_wt_median</th>\n",
              "      <th>v23_wt_median</th>\n",
              "      <th>v36_wt_median</th>\n",
              "      <th>v41_wt_median</th>\n",
              "      <th>v57_wt_median</th>\n",
              "    </tr>\n",
              "  </thead>\n",
              "  <tbody>\n",
              "    <tr>\n",
              "      <th>0</th>\n",
              "      <td>SAARC</td>\n",
              "      <td>AFG</td>\n",
              "      <td>Afghanistan</td>\n",
              "      <td>0</td>\n",
              "      <td>0</td>\n",
              "      <td>0</td>\n",
              "      <td>1</td>\n",
              "      <td>60.40</td>\n",
              "      <td>127.06</td>\n",
              "      <td>52.87</td>\n",
              "      <td>4.61</td>\n",
              "      <td>28.07</td>\n",
              "      <td>251.30</td>\n",
              "      <td>20.67</td>\n",
              "      <td>58.11</td>\n",
              "      <td>456.28</td>\n",
              "      <td>2020.18</td>\n",
              "      <td>104.62</td>\n",
              "    </tr>\n",
              "    <tr>\n",
              "      <th>1</th>\n",
              "      <td>SAARC</td>\n",
              "      <td>AFG</td>\n",
              "      <td>Afghanistan</td>\n",
              "      <td>0</td>\n",
              "      <td>0</td>\n",
              "      <td>0</td>\n",
              "      <td>2</td>\n",
              "      <td>75.33</td>\n",
              "      <td>135.78</td>\n",
              "      <td>57.84</td>\n",
              "      <td>5.70</td>\n",
              "      <td>33.45</td>\n",
              "      <td>282.21</td>\n",
              "      <td>29.70</td>\n",
              "      <td>59.89</td>\n",
              "      <td>478.07</td>\n",
              "      <td>2093.73</td>\n",
              "      <td>143.43</td>\n",
              "    </tr>\n",
              "    <tr>\n",
              "      <th>2</th>\n",
              "      <td>SAARC</td>\n",
              "      <td>AFG</td>\n",
              "      <td>Afghanistan</td>\n",
              "      <td>0</td>\n",
              "      <td>0</td>\n",
              "      <td>0</td>\n",
              "      <td>3</td>\n",
              "      <td>89.39</td>\n",
              "      <td>151.52</td>\n",
              "      <td>63.04</td>\n",
              "      <td>6.71</td>\n",
              "      <td>39.64</td>\n",
              "      <td>249.74</td>\n",
              "      <td>37.25</td>\n",
              "      <td>60.38</td>\n",
              "      <td>507.93</td>\n",
              "      <td>2183.09</td>\n",
              "      <td>175.80</td>\n",
              "    </tr>\n",
              "    <tr>\n",
              "      <th>3</th>\n",
              "      <td>SAARC</td>\n",
              "      <td>AFG</td>\n",
              "      <td>Afghanistan</td>\n",
              "      <td>0</td>\n",
              "      <td>0</td>\n",
              "      <td>0</td>\n",
              "      <td>999</td>\n",
              "      <td>62.22</td>\n",
              "      <td>128.49</td>\n",
              "      <td>53.50</td>\n",
              "      <td>4.74</td>\n",
              "      <td>28.78</td>\n",
              "      <td>252.00</td>\n",
              "      <td>21.72</td>\n",
              "      <td>58.26</td>\n",
              "      <td>459.39</td>\n",
              "      <td>2030.11</td>\n",
              "      <td>109.12</td>\n",
              "    </tr>\n",
              "    <tr>\n",
              "      <th>4</th>\n",
              "      <td>SAARC</td>\n",
              "      <td>AFG</td>\n",
              "      <td>Afghanistan</td>\n",
              "      <td>0</td>\n",
              "      <td>0</td>\n",
              "      <td>1</td>\n",
              "      <td>1</td>\n",
              "      <td>70.64</td>\n",
              "      <td>133.13</td>\n",
              "      <td>57.43</td>\n",
              "      <td>4.88</td>\n",
              "      <td>33.87</td>\n",
              "      <td>205.35</td>\n",
              "      <td>27.41</td>\n",
              "      <td>59.21</td>\n",
              "      <td>483.85</td>\n",
              "      <td>1952.97</td>\n",
              "      <td>124.06</td>\n",
              "    </tr>\n",
              "  </tbody>\n",
              "</table>\n",
              "</div>"
            ],
            "text/plain": [
              "  superregion2 iso3  countryname  ...  v36_wt_median  v41_wt_median  v57_wt_median\n",
              "0        SAARC  AFG  Afghanistan  ...         456.28        2020.18         104.62\n",
              "1        SAARC  AFG  Afghanistan  ...         478.07        2093.73         143.43\n",
              "2        SAARC  AFG  Afghanistan  ...         507.93        2183.09         175.80\n",
              "3        SAARC  AFG  Afghanistan  ...         459.39        2030.11         109.12\n",
              "4        SAARC  AFG  Afghanistan  ...         483.85        1952.97         124.06\n",
              "\n",
              "[5 rows x 18 columns]"
            ]
          },
          "metadata": {
            "tags": []
          },
          "execution_count": 204
        }
      ]
    },
    {
      "cell_type": "code",
      "metadata": {
        "colab": {
          "base_uri": "https://localhost:8080/"
        },
        "id": "yT3zTmTCtmF0",
        "outputId": "9cdcfe8a-1a5d-4e84-f90f-ba52f52207be"
      },
      "source": [
        "alimentacao_simples.info()"
      ],
      "execution_count": 205,
      "outputs": [
        {
          "output_type": "stream",
          "text": [
            "<class 'pandas.core.frame.DataFrame'>\n",
            "RangeIndex: 19980 entries, 0 to 19979\n",
            "Data columns (total 18 columns):\n",
            " #   Column         Non-Null Count  Dtype  \n",
            "---  ------         --------------  -----  \n",
            " 0   superregion2   19980 non-null  object \n",
            " 1   iso3           19980 non-null  object \n",
            " 2   countryname    19980 non-null  object \n",
            " 3   female         19980 non-null  int64  \n",
            " 4   adult          19980 non-null  int64  \n",
            " 5   urban          19980 non-null  int64  \n",
            " 6   edu            19980 non-null  int64  \n",
            " 7   v01_wt_median  19980 non-null  float64\n",
            " 8   v02_wt_median  19980 non-null  float64\n",
            " 9   v05_wt_median  19980 non-null  float64\n",
            " 10  v06_wt_median  19980 non-null  float64\n",
            " 11  v10_wt_median  19980 non-null  float64\n",
            " 12  v15_wt_median  19980 non-null  float64\n",
            " 13  v16_wt_median  19980 non-null  float64\n",
            " 14  v23_wt_median  19980 non-null  float64\n",
            " 15  v36_wt_median  19980 non-null  float64\n",
            " 16  v41_wt_median  19980 non-null  float64\n",
            " 17  v57_wt_median  19980 non-null  float64\n",
            "dtypes: float64(11), int64(4), object(3)\n",
            "memory usage: 2.7+ MB\n"
          ],
          "name": "stdout"
        }
      ]
    },
    {
      "cell_type": "code",
      "metadata": {
        "id": "5qzfBKIetq5Q"
      },
      "source": [
        "aldf = alimentacao_simples.query(\"iso3 in ['BRA']\") #localizando os dados referentes ao Brasil\n",
        "aldf = aldf.rename(columns={'iso3':'country', 'female':'genre', 'urban':'region', 'adult':'age_range', 'v01_wt_median':'fruit', 'v02_wt_median':'Non_starchy_vegetables', 'v05_wt_median':'Beans_and_legumes', 'v06_wt_median':'Nuts_and_seeds', 'v10_wt_median':'Unprocessed_red_meats', 'v15_wt_median':'Sugar-sweetened_beverages', 'v16_wt_median':'Fruit_juices', 'v57_wt_median':'Total_milk', 'v23_wt_median':'Total_protein'})"
      ],
      "execution_count": 206,
      "outputs": []
    },
    {
      "cell_type": "code",
      "metadata": {
        "id": "D9dUKwv4WW2Z"
      },
      "source": [
        "aldftype = {'region': 'string', 'genre': 'string', 'age_range':'string'} #alterando o tipo de dados da coluna\n",
        "aldf = aldf.astype(aldftype)"
      ],
      "execution_count": 207,
      "outputs": []
    },
    {
      "cell_type": "code",
      "metadata": {
        "id": "SJtgBzAsWdyV"
      },
      "source": [
        "aldf.replace({'region': {'0':'rural', '1':'urban', '999':'others'}}, inplace=True) #melhorando a visualização das informações \n",
        "aldf.replace({'genre': {'0':'male', '1':'female', '999':'both'}}, inplace=True)\n",
        "aldf.replace({'age_range': {'0':'young', '1':'adult', '999':'all_ages'}}, inplace=True)"
      ],
      "execution_count": 208,
      "outputs": []
    },
    {
      "cell_type": "code",
      "metadata": {
        "colab": {
          "base_uri": "https://localhost:8080/",
          "height": 232
        },
        "id": "p1w8PXbfgv28",
        "outputId": "291afc12-fb93-43d5-c9b5-5ffafbb807cc"
      },
      "source": [
        "aldf.drop(['superregion2', 'v36_wt_median', 'v41_wt_median', 'edu', 'countryname'], axis='columns', inplace=True) #dropando as colunas que não usarei\n",
        "aldf.head()"
      ],
      "execution_count": 209,
      "outputs": [
        {
          "output_type": "execute_result",
          "data": {
            "text/html": [
              "<div>\n",
              "<style scoped>\n",
              "    .dataframe tbody tr th:only-of-type {\n",
              "        vertical-align: middle;\n",
              "    }\n",
              "\n",
              "    .dataframe tbody tr th {\n",
              "        vertical-align: top;\n",
              "    }\n",
              "\n",
              "    .dataframe thead th {\n",
              "        text-align: right;\n",
              "    }\n",
              "</style>\n",
              "<table border=\"1\" class=\"dataframe\">\n",
              "  <thead>\n",
              "    <tr style=\"text-align: right;\">\n",
              "      <th></th>\n",
              "      <th>country</th>\n",
              "      <th>genre</th>\n",
              "      <th>age_range</th>\n",
              "      <th>region</th>\n",
              "      <th>fruit</th>\n",
              "      <th>Non_starchy_vegetables</th>\n",
              "      <th>Beans_and_legumes</th>\n",
              "      <th>Nuts_and_seeds</th>\n",
              "      <th>Unprocessed_red_meats</th>\n",
              "      <th>Sugar-sweetened_beverages</th>\n",
              "      <th>Fruit_juices</th>\n",
              "      <th>Total_protein</th>\n",
              "      <th>Total_milk</th>\n",
              "    </tr>\n",
              "  </thead>\n",
              "  <tbody>\n",
              "    <tr>\n",
              "      <th>2376</th>\n",
              "      <td>BRA</td>\n",
              "      <td>male</td>\n",
              "      <td>young</td>\n",
              "      <td>rural</td>\n",
              "      <td>80.16</td>\n",
              "      <td>76.48</td>\n",
              "      <td>78.43</td>\n",
              "      <td>0.24</td>\n",
              "      <td>44.91</td>\n",
              "      <td>155.00</td>\n",
              "      <td>41.16</td>\n",
              "      <td>71.54</td>\n",
              "      <td>75.23</td>\n",
              "    </tr>\n",
              "    <tr>\n",
              "      <th>2377</th>\n",
              "      <td>BRA</td>\n",
              "      <td>male</td>\n",
              "      <td>young</td>\n",
              "      <td>rural</td>\n",
              "      <td>94.47</td>\n",
              "      <td>85.87</td>\n",
              "      <td>80.75</td>\n",
              "      <td>0.29</td>\n",
              "      <td>55.42</td>\n",
              "      <td>159.16</td>\n",
              "      <td>56.28</td>\n",
              "      <td>73.40</td>\n",
              "      <td>106.26</td>\n",
              "    </tr>\n",
              "    <tr>\n",
              "      <th>2378</th>\n",
              "      <td>BRA</td>\n",
              "      <td>male</td>\n",
              "      <td>young</td>\n",
              "      <td>rural</td>\n",
              "      <td>105.27</td>\n",
              "      <td>102.46</td>\n",
              "      <td>83.48</td>\n",
              "      <td>0.38</td>\n",
              "      <td>61.44</td>\n",
              "      <td>147.01</td>\n",
              "      <td>72.98</td>\n",
              "      <td>74.78</td>\n",
              "      <td>137.68</td>\n",
              "    </tr>\n",
              "    <tr>\n",
              "      <th>2379</th>\n",
              "      <td>BRA</td>\n",
              "      <td>male</td>\n",
              "      <td>young</td>\n",
              "      <td>rural</td>\n",
              "      <td>83.84</td>\n",
              "      <td>79.64</td>\n",
              "      <td>79.11</td>\n",
              "      <td>0.26</td>\n",
              "      <td>47.46</td>\n",
              "      <td>154.86</td>\n",
              "      <td>45.46</td>\n",
              "      <td>72.02</td>\n",
              "      <td>83.83</td>\n",
              "    </tr>\n",
              "    <tr>\n",
              "      <th>2380</th>\n",
              "      <td>BRA</td>\n",
              "      <td>male</td>\n",
              "      <td>young</td>\n",
              "      <td>urban</td>\n",
              "      <td>90.51</td>\n",
              "      <td>79.03</td>\n",
              "      <td>74.76</td>\n",
              "      <td>0.38</td>\n",
              "      <td>53.64</td>\n",
              "      <td>180.40</td>\n",
              "      <td>60.86</td>\n",
              "      <td>78.33</td>\n",
              "      <td>93.48</td>\n",
              "    </tr>\n",
              "  </tbody>\n",
              "</table>\n",
              "</div>"
            ],
            "text/plain": [
              "     country genre age_range  ... Fruit_juices  Total_protein  Total_milk\n",
              "2376     BRA  male     young  ...        41.16          71.54       75.23\n",
              "2377     BRA  male     young  ...        56.28          73.40      106.26\n",
              "2378     BRA  male     young  ...        72.98          74.78      137.68\n",
              "2379     BRA  male     young  ...        45.46          72.02       83.83\n",
              "2380     BRA  male     young  ...        60.86          78.33       93.48\n",
              "\n",
              "[5 rows x 13 columns]"
            ]
          },
          "metadata": {
            "tags": []
          },
          "execution_count": 209
        }
      ]
    },
    {
      "cell_type": "markdown",
      "metadata": {
        "id": "tWQXdGgrx-eX"
      },
      "source": [
        "#Tratando e limpando a base a respeito do COVID19"
      ]
    },
    {
      "cell_type": "markdown",
      "metadata": {
        "id": "VsvEeR7C9EwD"
      },
      "source": [
        "Abertura da base sobre o COVID19 no Brasil"
      ]
    },
    {
      "cell_type": "code",
      "metadata": {
        "colab": {
          "base_uri": "https://localhost:8080/",
          "height": 299
        },
        "id": "NSHzd-l1tNM-",
        "outputId": "916dba03-9e84-40ab-d7db-e5260b9ff268"
      },
      "source": [
        "covid = pd.read_csv(\"/content/drive/MyDrive/datasets/caso.csv\")\n",
        "covid.head()"
      ],
      "execution_count": 210,
      "outputs": [
        {
          "output_type": "execute_result",
          "data": {
            "text/html": [
              "<div>\n",
              "<style scoped>\n",
              "    .dataframe tbody tr th:only-of-type {\n",
              "        vertical-align: middle;\n",
              "    }\n",
              "\n",
              "    .dataframe tbody tr th {\n",
              "        vertical-align: top;\n",
              "    }\n",
              "\n",
              "    .dataframe thead th {\n",
              "        text-align: right;\n",
              "    }\n",
              "</style>\n",
              "<table border=\"1\" class=\"dataframe\">\n",
              "  <thead>\n",
              "    <tr style=\"text-align: right;\">\n",
              "      <th></th>\n",
              "      <th>date</th>\n",
              "      <th>state</th>\n",
              "      <th>city</th>\n",
              "      <th>place_type</th>\n",
              "      <th>confirmed</th>\n",
              "      <th>deaths</th>\n",
              "      <th>order_for_place</th>\n",
              "      <th>is_last</th>\n",
              "      <th>estimated_population_2019</th>\n",
              "      <th>estimated_population</th>\n",
              "      <th>city_ibge_code</th>\n",
              "      <th>confirmed_per_100k_inhabitants</th>\n",
              "      <th>death_rate</th>\n",
              "    </tr>\n",
              "  </thead>\n",
              "  <tbody>\n",
              "    <tr>\n",
              "      <th>0</th>\n",
              "      <td>2020-11-05</td>\n",
              "      <td>AC</td>\n",
              "      <td>NaN</td>\n",
              "      <td>state</td>\n",
              "      <td>31248</td>\n",
              "      <td>697</td>\n",
              "      <td>234</td>\n",
              "      <td>True</td>\n",
              "      <td>881935.00</td>\n",
              "      <td>894470.00</td>\n",
              "      <td>12.00</td>\n",
              "      <td>3493.47</td>\n",
              "      <td>0.02</td>\n",
              "    </tr>\n",
              "    <tr>\n",
              "      <th>1</th>\n",
              "      <td>2020-11-04</td>\n",
              "      <td>AC</td>\n",
              "      <td>NaN</td>\n",
              "      <td>state</td>\n",
              "      <td>31218</td>\n",
              "      <td>696</td>\n",
              "      <td>233</td>\n",
              "      <td>False</td>\n",
              "      <td>881935.00</td>\n",
              "      <td>894470.00</td>\n",
              "      <td>12.00</td>\n",
              "      <td>3490.11</td>\n",
              "      <td>0.02</td>\n",
              "    </tr>\n",
              "    <tr>\n",
              "      <th>2</th>\n",
              "      <td>2020-11-03</td>\n",
              "      <td>AC</td>\n",
              "      <td>NaN</td>\n",
              "      <td>state</td>\n",
              "      <td>30962</td>\n",
              "      <td>695</td>\n",
              "      <td>232</td>\n",
              "      <td>False</td>\n",
              "      <td>881935.00</td>\n",
              "      <td>894470.00</td>\n",
              "      <td>12.00</td>\n",
              "      <td>3461.49</td>\n",
              "      <td>0.02</td>\n",
              "    </tr>\n",
              "    <tr>\n",
              "      <th>3</th>\n",
              "      <td>2020-11-02</td>\n",
              "      <td>AC</td>\n",
              "      <td>NaN</td>\n",
              "      <td>state</td>\n",
              "      <td>30954</td>\n",
              "      <td>693</td>\n",
              "      <td>231</td>\n",
              "      <td>False</td>\n",
              "      <td>881935.00</td>\n",
              "      <td>894470.00</td>\n",
              "      <td>12.00</td>\n",
              "      <td>3460.60</td>\n",
              "      <td>0.02</td>\n",
              "    </tr>\n",
              "    <tr>\n",
              "      <th>4</th>\n",
              "      <td>2020-11-01</td>\n",
              "      <td>AC</td>\n",
              "      <td>NaN</td>\n",
              "      <td>state</td>\n",
              "      <td>30951</td>\n",
              "      <td>693</td>\n",
              "      <td>230</td>\n",
              "      <td>False</td>\n",
              "      <td>881935.00</td>\n",
              "      <td>894470.00</td>\n",
              "      <td>12.00</td>\n",
              "      <td>3460.26</td>\n",
              "      <td>0.02</td>\n",
              "    </tr>\n",
              "  </tbody>\n",
              "</table>\n",
              "</div>"
            ],
            "text/plain": [
              "         date state  ... confirmed_per_100k_inhabitants death_rate\n",
              "0  2020-11-05    AC  ...                        3493.47       0.02\n",
              "1  2020-11-04    AC  ...                        3490.11       0.02\n",
              "2  2020-11-03    AC  ...                        3461.49       0.02\n",
              "3  2020-11-02    AC  ...                        3460.60       0.02\n",
              "4  2020-11-01    AC  ...                        3460.26       0.02\n",
              "\n",
              "[5 rows x 13 columns]"
            ]
          },
          "metadata": {
            "tags": []
          },
          "execution_count": 210
        }
      ]
    },
    {
      "cell_type": "code",
      "metadata": {
        "colab": {
          "base_uri": "https://localhost:8080/"
        },
        "id": "NVcDpE_jtpJA",
        "outputId": "0c85577b-52ae-42d8-a980-8c1cfb5a8db1"
      },
      "source": [
        "covid.info()"
      ],
      "execution_count": 211,
      "outputs": [
        {
          "output_type": "stream",
          "text": [
            "<class 'pandas.core.frame.DataFrame'>\n",
            "RangeIndex: 936870 entries, 0 to 936869\n",
            "Data columns (total 13 columns):\n",
            " #   Column                          Non-Null Count   Dtype  \n",
            "---  ------                          --------------   -----  \n",
            " 0   date                            936870 non-null  object \n",
            " 1   state                           936870 non-null  object \n",
            " 2   city                            930535 non-null  object \n",
            " 3   place_type                      936870 non-null  object \n",
            " 4   confirmed                       936870 non-null  int64  \n",
            " 5   deaths                          936870 non-null  int64  \n",
            " 6   order_for_place                 936870 non-null  int64  \n",
            " 7   is_last                         936870 non-null  bool   \n",
            " 8   estimated_population_2019       933215 non-null  float64\n",
            " 9   estimated_population            933215 non-null  float64\n",
            " 10  city_ibge_code                  933215 non-null  float64\n",
            " 11  confirmed_per_100k_inhabitants  919888 non-null  float64\n",
            " 12  death_rate                      936870 non-null  float64\n",
            "dtypes: bool(1), float64(5), int64(3), object(4)\n",
            "memory usage: 86.7+ MB\n"
          ],
          "name": "stdout"
        }
      ]
    },
    {
      "cell_type": "code",
      "metadata": {
        "id": "dVZ4l7A6gjxS"
      },
      "source": [
        "covdf = covid.query(\"state in ['PE', 'SC']\") #selecionando os Estados que serão analisados"
      ],
      "execution_count": 212,
      "outputs": []
    },
    {
      "cell_type": "code",
      "metadata": {
        "colab": {
          "base_uri": "https://localhost:8080/",
          "height": 299
        },
        "id": "wWFwgW8Ry4Ly",
        "outputId": "0a47c017-6d32-4f37-e792-15f96e9454e9"
      },
      "source": [
        "covdf.head()"
      ],
      "execution_count": 213,
      "outputs": [
        {
          "output_type": "execute_result",
          "data": {
            "text/html": [
              "<div>\n",
              "<style scoped>\n",
              "    .dataframe tbody tr th:only-of-type {\n",
              "        vertical-align: middle;\n",
              "    }\n",
              "\n",
              "    .dataframe tbody tr th {\n",
              "        vertical-align: top;\n",
              "    }\n",
              "\n",
              "    .dataframe thead th {\n",
              "        text-align: right;\n",
              "    }\n",
              "</style>\n",
              "<table border=\"1\" class=\"dataframe\">\n",
              "  <thead>\n",
              "    <tr style=\"text-align: right;\">\n",
              "      <th></th>\n",
              "      <th>date</th>\n",
              "      <th>state</th>\n",
              "      <th>city</th>\n",
              "      <th>place_type</th>\n",
              "      <th>confirmed</th>\n",
              "      <th>deaths</th>\n",
              "      <th>order_for_place</th>\n",
              "      <th>is_last</th>\n",
              "      <th>estimated_population_2019</th>\n",
              "      <th>estimated_population</th>\n",
              "      <th>city_ibge_code</th>\n",
              "      <th>confirmed_per_100k_inhabitants</th>\n",
              "      <th>death_rate</th>\n",
              "    </tr>\n",
              "  </thead>\n",
              "  <tbody>\n",
              "    <tr>\n",
              "      <th>335524</th>\n",
              "      <td>2020-11-05</td>\n",
              "      <td>PE</td>\n",
              "      <td>NaN</td>\n",
              "      <td>state</td>\n",
              "      <td>164222</td>\n",
              "      <td>8687</td>\n",
              "      <td>239</td>\n",
              "      <td>True</td>\n",
              "      <td>9557071.00</td>\n",
              "      <td>9616621.00</td>\n",
              "      <td>26.00</td>\n",
              "      <td>1707.69</td>\n",
              "      <td>0.05</td>\n",
              "    </tr>\n",
              "    <tr>\n",
              "      <th>335525</th>\n",
              "      <td>2020-11-04</td>\n",
              "      <td>PE</td>\n",
              "      <td>NaN</td>\n",
              "      <td>state</td>\n",
              "      <td>163642</td>\n",
              "      <td>8667</td>\n",
              "      <td>238</td>\n",
              "      <td>False</td>\n",
              "      <td>9557071.00</td>\n",
              "      <td>9616621.00</td>\n",
              "      <td>26.00</td>\n",
              "      <td>1701.66</td>\n",
              "      <td>0.05</td>\n",
              "    </tr>\n",
              "    <tr>\n",
              "      <th>335526</th>\n",
              "      <td>2020-11-03</td>\n",
              "      <td>PE</td>\n",
              "      <td>NaN</td>\n",
              "      <td>state</td>\n",
              "      <td>163156</td>\n",
              "      <td>8643</td>\n",
              "      <td>237</td>\n",
              "      <td>False</td>\n",
              "      <td>9557071.00</td>\n",
              "      <td>9616621.00</td>\n",
              "      <td>26.00</td>\n",
              "      <td>1696.60</td>\n",
              "      <td>0.05</td>\n",
              "    </tr>\n",
              "    <tr>\n",
              "      <th>335527</th>\n",
              "      <td>2020-11-02</td>\n",
              "      <td>PE</td>\n",
              "      <td>NaN</td>\n",
              "      <td>state</td>\n",
              "      <td>163039</td>\n",
              "      <td>8638</td>\n",
              "      <td>236</td>\n",
              "      <td>False</td>\n",
              "      <td>9557071.00</td>\n",
              "      <td>9616621.00</td>\n",
              "      <td>26.00</td>\n",
              "      <td>1695.39</td>\n",
              "      <td>0.05</td>\n",
              "    </tr>\n",
              "    <tr>\n",
              "      <th>335528</th>\n",
              "      <td>2020-11-01</td>\n",
              "      <td>PE</td>\n",
              "      <td>NaN</td>\n",
              "      <td>state</td>\n",
              "      <td>162977</td>\n",
              "      <td>8632</td>\n",
              "      <td>235</td>\n",
              "      <td>False</td>\n",
              "      <td>9557071.00</td>\n",
              "      <td>9616621.00</td>\n",
              "      <td>26.00</td>\n",
              "      <td>1694.74</td>\n",
              "      <td>0.05</td>\n",
              "    </tr>\n",
              "  </tbody>\n",
              "</table>\n",
              "</div>"
            ],
            "text/plain": [
              "              date state  ... confirmed_per_100k_inhabitants death_rate\n",
              "335524  2020-11-05    PE  ...                        1707.69       0.05\n",
              "335525  2020-11-04    PE  ...                        1701.66       0.05\n",
              "335526  2020-11-03    PE  ...                        1696.60       0.05\n",
              "335527  2020-11-02    PE  ...                        1695.39       0.05\n",
              "335528  2020-11-01    PE  ...                        1694.74       0.05\n",
              "\n",
              "[5 rows x 13 columns]"
            ]
          },
          "metadata": {
            "tags": []
          },
          "execution_count": 213
        }
      ]
    },
    {
      "cell_type": "code",
      "metadata": {
        "colab": {
          "base_uri": "https://localhost:8080/",
          "height": 279
        },
        "id": "s5h5Ww5qvXVH",
        "outputId": "ba6a2b24-edbb-4927-ef67-6e5c75fcc54c"
      },
      "source": [
        "covdf.drop(['city', 'place_type', 'order_for_place', 'is_last', 'estimated_population_2019', 'city_ibge_code'], axis='columns', inplace=True) #dropando as colunas que não utilizarei\n",
        "covdf.head()"
      ],
      "execution_count": 214,
      "outputs": [
        {
          "output_type": "stream",
          "text": [
            "/usr/local/lib/python3.6/dist-packages/pandas/core/frame.py:4174: SettingWithCopyWarning: \n",
            "A value is trying to be set on a copy of a slice from a DataFrame\n",
            "\n",
            "See the caveats in the documentation: https://pandas.pydata.org/pandas-docs/stable/user_guide/indexing.html#returning-a-view-versus-a-copy\n",
            "  errors=errors,\n"
          ],
          "name": "stderr"
        },
        {
          "output_type": "execute_result",
          "data": {
            "text/html": [
              "<div>\n",
              "<style scoped>\n",
              "    .dataframe tbody tr th:only-of-type {\n",
              "        vertical-align: middle;\n",
              "    }\n",
              "\n",
              "    .dataframe tbody tr th {\n",
              "        vertical-align: top;\n",
              "    }\n",
              "\n",
              "    .dataframe thead th {\n",
              "        text-align: right;\n",
              "    }\n",
              "</style>\n",
              "<table border=\"1\" class=\"dataframe\">\n",
              "  <thead>\n",
              "    <tr style=\"text-align: right;\">\n",
              "      <th></th>\n",
              "      <th>date</th>\n",
              "      <th>state</th>\n",
              "      <th>confirmed</th>\n",
              "      <th>deaths</th>\n",
              "      <th>estimated_population</th>\n",
              "      <th>confirmed_per_100k_inhabitants</th>\n",
              "      <th>death_rate</th>\n",
              "    </tr>\n",
              "  </thead>\n",
              "  <tbody>\n",
              "    <tr>\n",
              "      <th>335524</th>\n",
              "      <td>2020-11-05</td>\n",
              "      <td>PE</td>\n",
              "      <td>164222</td>\n",
              "      <td>8687</td>\n",
              "      <td>9616621.00</td>\n",
              "      <td>1707.69</td>\n",
              "      <td>0.05</td>\n",
              "    </tr>\n",
              "    <tr>\n",
              "      <th>335525</th>\n",
              "      <td>2020-11-04</td>\n",
              "      <td>PE</td>\n",
              "      <td>163642</td>\n",
              "      <td>8667</td>\n",
              "      <td>9616621.00</td>\n",
              "      <td>1701.66</td>\n",
              "      <td>0.05</td>\n",
              "    </tr>\n",
              "    <tr>\n",
              "      <th>335526</th>\n",
              "      <td>2020-11-03</td>\n",
              "      <td>PE</td>\n",
              "      <td>163156</td>\n",
              "      <td>8643</td>\n",
              "      <td>9616621.00</td>\n",
              "      <td>1696.60</td>\n",
              "      <td>0.05</td>\n",
              "    </tr>\n",
              "    <tr>\n",
              "      <th>335527</th>\n",
              "      <td>2020-11-02</td>\n",
              "      <td>PE</td>\n",
              "      <td>163039</td>\n",
              "      <td>8638</td>\n",
              "      <td>9616621.00</td>\n",
              "      <td>1695.39</td>\n",
              "      <td>0.05</td>\n",
              "    </tr>\n",
              "    <tr>\n",
              "      <th>335528</th>\n",
              "      <td>2020-11-01</td>\n",
              "      <td>PE</td>\n",
              "      <td>162977</td>\n",
              "      <td>8632</td>\n",
              "      <td>9616621.00</td>\n",
              "      <td>1694.74</td>\n",
              "      <td>0.05</td>\n",
              "    </tr>\n",
              "  </tbody>\n",
              "</table>\n",
              "</div>"
            ],
            "text/plain": [
              "              date state  ...  confirmed_per_100k_inhabitants  death_rate\n",
              "335524  2020-11-05    PE  ...                         1707.69        0.05\n",
              "335525  2020-11-04    PE  ...                         1701.66        0.05\n",
              "335526  2020-11-03    PE  ...                         1696.60        0.05\n",
              "335527  2020-11-02    PE  ...                         1695.39        0.05\n",
              "335528  2020-11-01    PE  ...                         1694.74        0.05\n",
              "\n",
              "[5 rows x 7 columns]"
            ]
          },
          "metadata": {
            "tags": []
          },
          "execution_count": 214
        }
      ]
    },
    {
      "cell_type": "code",
      "metadata": {
        "colab": {
          "base_uri": "https://localhost:8080/"
        },
        "id": "UT3otydF2sPm",
        "outputId": "1a0107fd-7b56-4679-fdb5-66faf1273af1"
      },
      "source": [
        "covdf['date'] = pd.to_datetime(covdf['date']) #alterando o tipo de dado da coluna para data"
      ],
      "execution_count": 215,
      "outputs": [
        {
          "output_type": "stream",
          "text": [
            "/usr/local/lib/python3.6/dist-packages/ipykernel_launcher.py:1: SettingWithCopyWarning: \n",
            "A value is trying to be set on a copy of a slice from a DataFrame.\n",
            "Try using .loc[row_indexer,col_indexer] = value instead\n",
            "\n",
            "See the caveats in the documentation: https://pandas.pydata.org/pandas-docs/stable/user_guide/indexing.html#returning-a-view-versus-a-copy\n",
            "  \"\"\"Entry point for launching an IPython kernel.\n"
          ],
          "name": "stderr"
        }
      ]
    },
    {
      "cell_type": "code",
      "metadata": {
        "colab": {
          "base_uri": "https://localhost:8080/",
          "height": 296
        },
        "id": "lHgPDQ3rN4DJ",
        "outputId": "99582a36-9302-4d91-a1d9-e169c8df43b0"
      },
      "source": [
        "covdf['month'] = covdf['date'].dt.month #trabalhando com meses\n",
        "covdf.head()"
      ],
      "execution_count": 216,
      "outputs": [
        {
          "output_type": "stream",
          "text": [
            "/usr/local/lib/python3.6/dist-packages/ipykernel_launcher.py:1: SettingWithCopyWarning: \n",
            "A value is trying to be set on a copy of a slice from a DataFrame.\n",
            "Try using .loc[row_indexer,col_indexer] = value instead\n",
            "\n",
            "See the caveats in the documentation: https://pandas.pydata.org/pandas-docs/stable/user_guide/indexing.html#returning-a-view-versus-a-copy\n",
            "  \"\"\"Entry point for launching an IPython kernel.\n"
          ],
          "name": "stderr"
        },
        {
          "output_type": "execute_result",
          "data": {
            "text/html": [
              "<div>\n",
              "<style scoped>\n",
              "    .dataframe tbody tr th:only-of-type {\n",
              "        vertical-align: middle;\n",
              "    }\n",
              "\n",
              "    .dataframe tbody tr th {\n",
              "        vertical-align: top;\n",
              "    }\n",
              "\n",
              "    .dataframe thead th {\n",
              "        text-align: right;\n",
              "    }\n",
              "</style>\n",
              "<table border=\"1\" class=\"dataframe\">\n",
              "  <thead>\n",
              "    <tr style=\"text-align: right;\">\n",
              "      <th></th>\n",
              "      <th>date</th>\n",
              "      <th>state</th>\n",
              "      <th>confirmed</th>\n",
              "      <th>deaths</th>\n",
              "      <th>estimated_population</th>\n",
              "      <th>confirmed_per_100k_inhabitants</th>\n",
              "      <th>death_rate</th>\n",
              "      <th>month</th>\n",
              "    </tr>\n",
              "  </thead>\n",
              "  <tbody>\n",
              "    <tr>\n",
              "      <th>335524</th>\n",
              "      <td>2020-11-05</td>\n",
              "      <td>PE</td>\n",
              "      <td>164222</td>\n",
              "      <td>8687</td>\n",
              "      <td>9616621.00</td>\n",
              "      <td>1707.69</td>\n",
              "      <td>0.05</td>\n",
              "      <td>11</td>\n",
              "    </tr>\n",
              "    <tr>\n",
              "      <th>335525</th>\n",
              "      <td>2020-11-04</td>\n",
              "      <td>PE</td>\n",
              "      <td>163642</td>\n",
              "      <td>8667</td>\n",
              "      <td>9616621.00</td>\n",
              "      <td>1701.66</td>\n",
              "      <td>0.05</td>\n",
              "      <td>11</td>\n",
              "    </tr>\n",
              "    <tr>\n",
              "      <th>335526</th>\n",
              "      <td>2020-11-03</td>\n",
              "      <td>PE</td>\n",
              "      <td>163156</td>\n",
              "      <td>8643</td>\n",
              "      <td>9616621.00</td>\n",
              "      <td>1696.60</td>\n",
              "      <td>0.05</td>\n",
              "      <td>11</td>\n",
              "    </tr>\n",
              "    <tr>\n",
              "      <th>335527</th>\n",
              "      <td>2020-11-02</td>\n",
              "      <td>PE</td>\n",
              "      <td>163039</td>\n",
              "      <td>8638</td>\n",
              "      <td>9616621.00</td>\n",
              "      <td>1695.39</td>\n",
              "      <td>0.05</td>\n",
              "      <td>11</td>\n",
              "    </tr>\n",
              "    <tr>\n",
              "      <th>335528</th>\n",
              "      <td>2020-11-01</td>\n",
              "      <td>PE</td>\n",
              "      <td>162977</td>\n",
              "      <td>8632</td>\n",
              "      <td>9616621.00</td>\n",
              "      <td>1694.74</td>\n",
              "      <td>0.05</td>\n",
              "      <td>11</td>\n",
              "    </tr>\n",
              "  </tbody>\n",
              "</table>\n",
              "</div>"
            ],
            "text/plain": [
              "             date state  ...  death_rate  month\n",
              "335524 2020-11-05    PE  ...        0.05     11\n",
              "335525 2020-11-04    PE  ...        0.05     11\n",
              "335526 2020-11-03    PE  ...        0.05     11\n",
              "335527 2020-11-02    PE  ...        0.05     11\n",
              "335528 2020-11-01    PE  ...        0.05     11\n",
              "\n",
              "[5 rows x 8 columns]"
            ]
          },
          "metadata": {
            "tags": []
          },
          "execution_count": 216
        }
      ]
    },
    {
      "cell_type": "code",
      "metadata": {
        "colab": {
          "base_uri": "https://localhost:8080/",
          "height": 402
        },
        "id": "BL4ipMj_dl5K",
        "outputId": "81e82ae7-6676-406d-9a6b-87fd1e8e5b1d"
      },
      "source": [
        "    covdf.isnull() #verificando se existem dados faltantes\n",
        "    "
      ],
      "execution_count": 217,
      "outputs": [
        {
          "output_type": "execute_result",
          "data": {
            "text/html": [
              "<div>\n",
              "<style scoped>\n",
              "    .dataframe tbody tr th:only-of-type {\n",
              "        vertical-align: middle;\n",
              "    }\n",
              "\n",
              "    .dataframe tbody tr th {\n",
              "        vertical-align: top;\n",
              "    }\n",
              "\n",
              "    .dataframe thead th {\n",
              "        text-align: right;\n",
              "    }\n",
              "</style>\n",
              "<table border=\"1\" class=\"dataframe\">\n",
              "  <thead>\n",
              "    <tr style=\"text-align: right;\">\n",
              "      <th></th>\n",
              "      <th>date</th>\n",
              "      <th>state</th>\n",
              "      <th>confirmed</th>\n",
              "      <th>deaths</th>\n",
              "      <th>estimated_population</th>\n",
              "      <th>confirmed_per_100k_inhabitants</th>\n",
              "      <th>death_rate</th>\n",
              "      <th>month</th>\n",
              "    </tr>\n",
              "  </thead>\n",
              "  <tbody>\n",
              "    <tr>\n",
              "      <th>335524</th>\n",
              "      <td>False</td>\n",
              "      <td>False</td>\n",
              "      <td>False</td>\n",
              "      <td>False</td>\n",
              "      <td>False</td>\n",
              "      <td>False</td>\n",
              "      <td>False</td>\n",
              "      <td>False</td>\n",
              "    </tr>\n",
              "    <tr>\n",
              "      <th>335525</th>\n",
              "      <td>False</td>\n",
              "      <td>False</td>\n",
              "      <td>False</td>\n",
              "      <td>False</td>\n",
              "      <td>False</td>\n",
              "      <td>False</td>\n",
              "      <td>False</td>\n",
              "      <td>False</td>\n",
              "    </tr>\n",
              "    <tr>\n",
              "      <th>335526</th>\n",
              "      <td>False</td>\n",
              "      <td>False</td>\n",
              "      <td>False</td>\n",
              "      <td>False</td>\n",
              "      <td>False</td>\n",
              "      <td>False</td>\n",
              "      <td>False</td>\n",
              "      <td>False</td>\n",
              "    </tr>\n",
              "    <tr>\n",
              "      <th>335527</th>\n",
              "      <td>False</td>\n",
              "      <td>False</td>\n",
              "      <td>False</td>\n",
              "      <td>False</td>\n",
              "      <td>False</td>\n",
              "      <td>False</td>\n",
              "      <td>False</td>\n",
              "      <td>False</td>\n",
              "    </tr>\n",
              "    <tr>\n",
              "      <th>335528</th>\n",
              "      <td>False</td>\n",
              "      <td>False</td>\n",
              "      <td>False</td>\n",
              "      <td>False</td>\n",
              "      <td>False</td>\n",
              "      <td>False</td>\n",
              "      <td>False</td>\n",
              "      <td>False</td>\n",
              "    </tr>\n",
              "    <tr>\n",
              "      <th>...</th>\n",
              "      <td>...</td>\n",
              "      <td>...</td>\n",
              "      <td>...</td>\n",
              "      <td>...</td>\n",
              "      <td>...</td>\n",
              "      <td>...</td>\n",
              "      <td>...</td>\n",
              "      <td>...</td>\n",
              "    </tr>\n",
              "    <tr>\n",
              "      <th>721797</th>\n",
              "      <td>False</td>\n",
              "      <td>False</td>\n",
              "      <td>False</td>\n",
              "      <td>False</td>\n",
              "      <td>False</td>\n",
              "      <td>False</td>\n",
              "      <td>False</td>\n",
              "      <td>False</td>\n",
              "    </tr>\n",
              "    <tr>\n",
              "      <th>721798</th>\n",
              "      <td>False</td>\n",
              "      <td>False</td>\n",
              "      <td>False</td>\n",
              "      <td>False</td>\n",
              "      <td>False</td>\n",
              "      <td>False</td>\n",
              "      <td>False</td>\n",
              "      <td>False</td>\n",
              "    </tr>\n",
              "    <tr>\n",
              "      <th>721799</th>\n",
              "      <td>False</td>\n",
              "      <td>False</td>\n",
              "      <td>False</td>\n",
              "      <td>False</td>\n",
              "      <td>False</td>\n",
              "      <td>False</td>\n",
              "      <td>False</td>\n",
              "      <td>False</td>\n",
              "    </tr>\n",
              "    <tr>\n",
              "      <th>721800</th>\n",
              "      <td>False</td>\n",
              "      <td>False</td>\n",
              "      <td>False</td>\n",
              "      <td>False</td>\n",
              "      <td>False</td>\n",
              "      <td>False</td>\n",
              "      <td>False</td>\n",
              "      <td>False</td>\n",
              "    </tr>\n",
              "    <tr>\n",
              "      <th>721801</th>\n",
              "      <td>False</td>\n",
              "      <td>False</td>\n",
              "      <td>False</td>\n",
              "      <td>False</td>\n",
              "      <td>False</td>\n",
              "      <td>False</td>\n",
              "      <td>False</td>\n",
              "      <td>False</td>\n",
              "    </tr>\n",
              "  </tbody>\n",
              "</table>\n",
              "<p>88842 rows × 8 columns</p>\n",
              "</div>"
            ],
            "text/plain": [
              "         date  state  ...  death_rate  month\n",
              "335524  False  False  ...       False  False\n",
              "335525  False  False  ...       False  False\n",
              "335526  False  False  ...       False  False\n",
              "335527  False  False  ...       False  False\n",
              "335528  False  False  ...       False  False\n",
              "...       ...    ...  ...         ...    ...\n",
              "721797  False  False  ...       False  False\n",
              "721798  False  False  ...       False  False\n",
              "721799  False  False  ...       False  False\n",
              "721800  False  False  ...       False  False\n",
              "721801  False  False  ...       False  False\n",
              "\n",
              "[88842 rows x 8 columns]"
            ]
          },
          "metadata": {
            "tags": []
          },
          "execution_count": 217
        }
      ]
    },
    {
      "cell_type": "markdown",
      "metadata": {
        "id": "RdqdBPYV7q-Y"
      },
      "source": [
        "#Análise"
      ]
    },
    {
      "cell_type": "markdown",
      "metadata": {
        "id": "wg50r5DpDFXP"
      },
      "source": [
        "agrupamento das alimentações mais ricos em vitamina D por região para entender se existe diferenças de alimentação marcantes entre meio urbano e rural."
      ]
    },
    {
      "cell_type": "code",
      "metadata": {
        "colab": {
          "base_uri": "https://localhost:8080/",
          "height": 166
        },
        "id": "vILIVg3zkd3Z",
        "outputId": "862dbfd0-acc4-4a58-cd0a-d0579223f5dd"
      },
      "source": [
        "aldf_brasil = aldf.groupby('region')[['Unprocessed_red_meats', 'Total_protein', 'Total_milk']].sum() #\n",
        "aldf_brasil.head()"
      ],
      "execution_count": 218,
      "outputs": [
        {
          "output_type": "execute_result",
          "data": {
            "text/html": [
              "<div>\n",
              "<style scoped>\n",
              "    .dataframe tbody tr th:only-of-type {\n",
              "        vertical-align: middle;\n",
              "    }\n",
              "\n",
              "    .dataframe tbody tr th {\n",
              "        vertical-align: top;\n",
              "    }\n",
              "\n",
              "    .dataframe thead th {\n",
              "        text-align: right;\n",
              "    }\n",
              "</style>\n",
              "<table border=\"1\" class=\"dataframe\">\n",
              "  <thead>\n",
              "    <tr style=\"text-align: right;\">\n",
              "      <th></th>\n",
              "      <th>Unprocessed_red_meats</th>\n",
              "      <th>Total_protein</th>\n",
              "      <th>Total_milk</th>\n",
              "    </tr>\n",
              "    <tr>\n",
              "      <th>region</th>\n",
              "      <th></th>\n",
              "      <th></th>\n",
              "      <th></th>\n",
              "    </tr>\n",
              "  </thead>\n",
              "  <tbody>\n",
              "    <tr>\n",
              "      <th>others</th>\n",
              "      <td>2351.14</td>\n",
              "      <td>2990.28</td>\n",
              "      <td>3661.49</td>\n",
              "    </tr>\n",
              "    <tr>\n",
              "      <th>rural</th>\n",
              "      <td>2015.10</td>\n",
              "      <td>2764.50</td>\n",
              "      <td>3029.70</td>\n",
              "    </tr>\n",
              "    <tr>\n",
              "      <th>urban</th>\n",
              "      <td>2406.89</td>\n",
              "      <td>3027.74</td>\n",
              "      <td>3766.31</td>\n",
              "    </tr>\n",
              "  </tbody>\n",
              "</table>\n",
              "</div>"
            ],
            "text/plain": [
              "        Unprocessed_red_meats  Total_protein  Total_milk\n",
              "region                                                  \n",
              "others                2351.14        2990.28     3661.49\n",
              "rural                 2015.10        2764.50     3029.70\n",
              "urban                 2406.89        3027.74     3766.31"
            ]
          },
          "metadata": {
            "tags": []
          },
          "execution_count": 218
        }
      ]
    },
    {
      "cell_type": "markdown",
      "metadata": {
        "id": "31cvu3wcDHkI"
      },
      "source": [
        "Agrupamento do número de mortes e pessoas contaminadas por mês para verificar evolução dos casos desde o início. Foi percebido, no entanto, que cada resultado replicava o valor anterior com a inclusão dos casos relacionados àquele dia, o que adulterava a amostragem com números astronômicos e que não refletiam a realidade."
      ]
    },
    {
      "cell_type": "code",
      "metadata": {
        "id": "N7uZBnTUshN4",
        "colab": {
          "base_uri": "https://localhost:8080/",
          "height": 136
        },
        "outputId": "e7e6a244-d991-4f2a-8649-f0f54ee8dc0a"
      },
      "source": [
        "covdf_estado = covdf.groupby('state')[['confirmed', 'deaths']].sum()\n",
        "covdf_estado.head()"
      ],
      "execution_count": 219,
      "outputs": [
        {
          "output_type": "execute_result",
          "data": {
            "text/html": [
              "<div>\n",
              "<style scoped>\n",
              "    .dataframe tbody tr th:only-of-type {\n",
              "        vertical-align: middle;\n",
              "    }\n",
              "\n",
              "    .dataframe tbody tr th {\n",
              "        vertical-align: top;\n",
              "    }\n",
              "\n",
              "    .dataframe thead th {\n",
              "        text-align: right;\n",
              "    }\n",
              "</style>\n",
              "<table border=\"1\" class=\"dataframe\">\n",
              "  <thead>\n",
              "    <tr style=\"text-align: right;\">\n",
              "      <th></th>\n",
              "      <th>confirmed</th>\n",
              "      <th>deaths</th>\n",
              "    </tr>\n",
              "    <tr>\n",
              "      <th>state</th>\n",
              "      <th></th>\n",
              "      <th></th>\n",
              "    </tr>\n",
              "  </thead>\n",
              "  <tbody>\n",
              "    <tr>\n",
              "      <th>PE</th>\n",
              "      <td>34586008</td>\n",
              "      <td>2187626</td>\n",
              "    </tr>\n",
              "    <tr>\n",
              "      <th>SC</th>\n",
              "      <td>40554670</td>\n",
              "      <td>531134</td>\n",
              "    </tr>\n",
              "  </tbody>\n",
              "</table>\n",
              "</div>"
            ],
            "text/plain": [
              "       confirmed   deaths\n",
              "state                    \n",
              "PE      34586008  2187626\n",
              "SC      40554670   531134"
            ]
          },
          "metadata": {
            "tags": []
          },
          "execution_count": 219
        }
      ]
    },
    {
      "cell_type": "markdown",
      "metadata": {
        "id": "VhpDg6twQ7G_"
      },
      "source": [
        "Para contornar o erro anterior, foi utilizado o .loc para puxar os dados do último mês, com números totais de mortos e confirmados do último registro, retirando as demais colunas para melhor apresentação do conteúdo."
      ]
    },
    {
      "cell_type": "code",
      "metadata": {
        "id": "w-Z89hvYPIb3",
        "colab": {
          "base_uri": "https://localhost:8080/",
          "height": 106
        },
        "outputId": "d88298f7-c078-4d25-b440-2ea066d59f25"
      },
      "source": [
        "covdf_mortes_e_confirmados = covdf.loc[[335524, 668623]] #selecionando as datas mais recentes para acessar os números de mortes e casos confirmados do Estado de Pernambuco e Santa Catarina\n",
        "covdf_mortes_e_confirmados"
      ],
      "execution_count": 220,
      "outputs": [
        {
          "output_type": "execute_result",
          "data": {
            "text/html": [
              "<div>\n",
              "<style scoped>\n",
              "    .dataframe tbody tr th:only-of-type {\n",
              "        vertical-align: middle;\n",
              "    }\n",
              "\n",
              "    .dataframe tbody tr th {\n",
              "        vertical-align: top;\n",
              "    }\n",
              "\n",
              "    .dataframe thead th {\n",
              "        text-align: right;\n",
              "    }\n",
              "</style>\n",
              "<table border=\"1\" class=\"dataframe\">\n",
              "  <thead>\n",
              "    <tr style=\"text-align: right;\">\n",
              "      <th></th>\n",
              "      <th>date</th>\n",
              "      <th>state</th>\n",
              "      <th>confirmed</th>\n",
              "      <th>deaths</th>\n",
              "      <th>estimated_population</th>\n",
              "      <th>confirmed_per_100k_inhabitants</th>\n",
              "      <th>death_rate</th>\n",
              "      <th>month</th>\n",
              "    </tr>\n",
              "  </thead>\n",
              "  <tbody>\n",
              "    <tr>\n",
              "      <th>335524</th>\n",
              "      <td>2020-11-05</td>\n",
              "      <td>PE</td>\n",
              "      <td>164222</td>\n",
              "      <td>8687</td>\n",
              "      <td>9616621.00</td>\n",
              "      <td>1707.69</td>\n",
              "      <td>0.05</td>\n",
              "      <td>11</td>\n",
              "    </tr>\n",
              "    <tr>\n",
              "      <th>668623</th>\n",
              "      <td>2020-11-05</td>\n",
              "      <td>SC</td>\n",
              "      <td>268644</td>\n",
              "      <td>3173</td>\n",
              "      <td>7252502.00</td>\n",
              "      <td>3704.16</td>\n",
              "      <td>0.01</td>\n",
              "      <td>11</td>\n",
              "    </tr>\n",
              "  </tbody>\n",
              "</table>\n",
              "</div>"
            ],
            "text/plain": [
              "             date state  ...  death_rate  month\n",
              "335524 2020-11-05    PE  ...        0.05     11\n",
              "668623 2020-11-05    SC  ...        0.01     11\n",
              "\n",
              "[2 rows x 8 columns]"
            ]
          },
          "metadata": {
            "tags": []
          },
          "execution_count": 220
        }
      ]
    },
    {
      "cell_type": "code",
      "metadata": {
        "id": "PmZnfHoHuUg_",
        "colab": {
          "base_uri": "https://localhost:8080/",
          "height": 106
        },
        "outputId": "fc494f1f-525e-436a-8221-18ae75983ae1"
      },
      "source": [
        "covdf_mortes_e_confirmados.drop(['estimated_population', 'confirmed_per_100k_inhabitants', 'death_rate', 'month'], axis='columns', inplace=True) #dropando colunas que não utilizarei\n",
        "covdf_mortes_e_confirmados"
      ],
      "execution_count": 221,
      "outputs": [
        {
          "output_type": "execute_result",
          "data": {
            "text/html": [
              "<div>\n",
              "<style scoped>\n",
              "    .dataframe tbody tr th:only-of-type {\n",
              "        vertical-align: middle;\n",
              "    }\n",
              "\n",
              "    .dataframe tbody tr th {\n",
              "        vertical-align: top;\n",
              "    }\n",
              "\n",
              "    .dataframe thead th {\n",
              "        text-align: right;\n",
              "    }\n",
              "</style>\n",
              "<table border=\"1\" class=\"dataframe\">\n",
              "  <thead>\n",
              "    <tr style=\"text-align: right;\">\n",
              "      <th></th>\n",
              "      <th>date</th>\n",
              "      <th>state</th>\n",
              "      <th>confirmed</th>\n",
              "      <th>deaths</th>\n",
              "    </tr>\n",
              "  </thead>\n",
              "  <tbody>\n",
              "    <tr>\n",
              "      <th>335524</th>\n",
              "      <td>2020-11-05</td>\n",
              "      <td>PE</td>\n",
              "      <td>164222</td>\n",
              "      <td>8687</td>\n",
              "    </tr>\n",
              "    <tr>\n",
              "      <th>668623</th>\n",
              "      <td>2020-11-05</td>\n",
              "      <td>SC</td>\n",
              "      <td>268644</td>\n",
              "      <td>3173</td>\n",
              "    </tr>\n",
              "  </tbody>\n",
              "</table>\n",
              "</div>"
            ],
            "text/plain": [
              "             date state  confirmed  deaths\n",
              "335524 2020-11-05    PE     164222    8687\n",
              "668623 2020-11-05    SC     268644    3173"
            ]
          },
          "metadata": {
            "tags": []
          },
          "execution_count": 221
        }
      ]
    },
    {
      "cell_type": "markdown",
      "metadata": {
        "id": "gVPhrhC67lY7"
      },
      "source": [
        "#Conclusão"
      ]
    },
    {
      "cell_type": "markdown",
      "metadata": {
        "id": "IEywRiY3DIrD"
      },
      "source": [
        "Os dados anteriormente apresentados mostram que no Brasil há um maior número de mortos em Pernambuco comparado com Santa Catarina, apesar da relação ser inversa  quando falamos de casos confirmados. Também constatamos, com base na amostragem coletada da base de dados global sobre alimentação, que alimentos com maiores fontes de vitamina D, preponderantemente de origem animal, são consumidos em maior quantidade pela população em meio urbano; é importante ressaltar que, de acordo com fontes médicas pesquisadas, esse tipo de vitamina é mais presente em alimentos de origem animal como ovos, leite ou carnes.\n",
        "\n",
        "Dado que este estudo iniciou com o interesse de entender se haviam variáveis que gerassem uma narrativa causal entre a maior ingestão de vitamina D e a menor gravidade de sintomas, um marcador importante foi ter observado o número de mortes por estado, já que muitas vezes o óbito pode indicar maior quantidade de pacientes que evoluíram para estados graves de saúde até quando acabassem perdendo a própria vida. Contudo, isso não pode ser uma relação post hoc, já que não necessariamente pessoas confirmadas deixam de abarcar casos graves que, no entanto, não vieram a falecer.\n",
        "\n",
        "A princípio podemos deduzir que a população rural, provavelmente com costumes de menor confinamento em casas e edifícios fechados durante grande número de horas poderiam ter maior índice de vitamina D e consequentemente menor nível de óbitos ou de casos graves, com a relação inversa ocorrendo em grandes centros urbanos. O estudo induz através da observação dos dados, que talvez não exista esta relação já que também podem existir outras variáveis como suplementação e ingestão de alimentos que podem impactar na análise desta causalidade.\n",
        "\n",
        "Existem algumas limitações no estudo, como a falta de amostragem contundente quando falamos de alimentação, já que temos a importação de uma base global, da Global Dietary Database (GDD)  que, apesar de muito robusta e gerada em colaboração com grandes instituições de ensino globais, traz apenas 108 registros no Brasil e sem segmentação por estado. Outras limitações são, conforme já dito anteriormente, a existência de fatores complexos e intercambiáveis que podem influenciar na análise e adulterar a possível relação entre variáveis.\n",
        "\n",
        "Esta pesquisa sugere a necessidade de um maior aprofundamento posterior, com adição de maiores bases de dados de institutos locais como IBGE a fim de trazer outros fenômenos estruturados em rede como desenvolvimento sócio-econômico de cada estado, taxa de urbanização, renda per capita, taxa de escolarização e políticas públicas(taxas) de investimento em saúde. Com isso será possível ter mais contundência entendendo variáveis múltiplas, já que o maior número de mortes pode refletir, invés da deficiência de vitamina D, apenas um baixo investimento regional em saúde pública. Desta forma será possível dirimir possíveis ocorrências de vieses de ancoragem e falácia non sequitur."
      ]
    },
    {
      "cell_type": "markdown",
      "metadata": {
        "id": "lrOIEh1o7kzs"
      },
      "source": [
        "#Fontes\n"
      ]
    },
    {
      "cell_type": "markdown",
      "metadata": {
        "id": "ZJoWP09hDJXB"
      },
      "source": [
        "- https://www.ibge.gov.br/cidades-e-estados/sc.html - Dados de Santa Catarina\n",
        "- https://www.ibge.gov.br/cidades-e-estados/pe.html - Dados de Pernambuco\n",
        "- https://www.unimedfortaleza.com.br/blog/alimentacao/alimentos-vitamina-d - Dados da Unimed sobre vitamina D\n",
        "- https://www.globaldietarydatabase.org/ - Base de hábitos alimentares da Global Dietary\n",
        "- https://brasil.io/dataset/covid19/caso/ - Base do COVID19 do Brasil.IO"
      ]
    }
  ]
}